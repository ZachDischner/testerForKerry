{
 "metadata": {
  "name": "",
  "signature": "sha256:105a0a5a0775a98ad40efe34a4ca21dc18d6e30aafbefad23b83f4128c2aaced"
 },
 "nbformat": 3,
 "nbformat_minor": 0,
 "worksheets": [
  {
   "cells": [
    {
     "cell_type": "code",
     "collapsed": false,
     "input": [
      "import sqlite3\n",
      "import pandas as pd\n",
      "\n",
      "dbloc = \"test2.db\"  #database location\n",
      "conn = sqlite3.connect(dbloc)\n",
      "\n",
      "query = \"\"\"SELECT * FROM Cars;\"\"\"\n",
      "table = pd.read_sql(query,conn)\n",
      "print table"
     ],
     "language": "python",
     "metadata": {},
     "outputs": [
      {
       "output_type": "stream",
       "stream": "stdout",
       "text": [
        "   Id        Name   Price\n",
        "0   1        Audi   52642\n",
        "1   2    Mercedes   57127\n",
        "2   3       Skoda    9000\n",
        "3   4       Volvo   29000\n",
        "4   5     Bentley  350000\n",
        "5   6     Citroen   21000\n",
        "6   7      Hummer   41400\n",
        "7   8  Volkswagen   21600\n",
        "8   9      Toyota   20600\n",
        "9  10       Lambo  210000\n"
       ]
      }
     ],
     "prompt_number": 17
    },
    {
     "cell_type": "code",
     "collapsed": false,
     "input": [],
     "language": "python",
     "metadata": {},
     "outputs": []
    }
   ],
   "metadata": {}
  }
 ]
}