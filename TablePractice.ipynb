{
 "metadata": {
  "name": "",
  "signature": "sha256:bee946d27f9e0c72447ea05ce2c401e129e72c404e941d82aef01e3c721d2f6b"
 },
 "nbformat": 3,
 "nbformat_minor": 0,
 "worksheets": [
  {
   "cells": [
    {
     "cell_type": "code",
     "collapsed": false,
     "input": [
      "import sqlite3 as sq\n",
      "import pandas as pd\n",
      "\n",
      "dbloc = \"test.db\"  #database location\n",
      "conn = sqlite3.connect(dbloc)\n",
      "\n",
      "query = \"\"\"SELECT * FROM Cars;\"\"\"\n",
      "table = pd.read_sql(query,conn)\n",
      "print table"
     ],
     "language": "python",
     "metadata": {},
     "outputs": [
      {
       "output_type": "stream",
       "stream": "stdout",
       "text": [
        "   Id        Name   Price\n",
        "0   1        Audi   52642\n",
        "1   2    Mercedes   57127\n",
        "2   3       Skoda    9000\n",
        "3   4       Volvo   29000\n",
        "4   5     Bentley  350000\n",
        "5   6     Citroen   21000\n",
        "6   7      Hummer   41400\n",
        "7   8  Volkswagen   21600\n"
       ]
      }
     ],
     "prompt_number": 16
    },
    {
     "cell_type": "code",
     "collapsed": false,
     "input": [],
     "language": "python",
     "metadata": {},
     "outputs": []
    }
   ],
   "metadata": {}
  }
 ]
}